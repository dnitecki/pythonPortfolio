{
 "cells": [
  {
   "cell_type": "code",
   "execution_count": null,
   "metadata": {},
   "outputs": [],
   "source": [
    "import math\n",
    "\n",
    "def violate(shares, Max_shares):\n",
    "    \"\"\"\n",
    "    violate() = If user input of share exceeds max shares, then a dialogue will appear stating the user needs to enter a value in the appropriate range.\n",
    "    \"\"\"\n",
    "    if(shares > Max_shares or shares < 0):\n",
    "        print(\"You can purchase a minimum of 0 shares and a maximum of \" + str(math.floor(Max_shares)) + \" shares.\")\n",
    "        print(\"Please enter a number of shares value in this range.\")\n",
    "        return True\n",
    "    else:\n",
    "        return False\n",
    "    \n",
    "def purchase(shares, stock_price, investment):\n",
    "    \"\"\"\n",
    "    purchase() = If the user enters acceptable value, the following dialogue will state the stock price and how much the user bought it for.\n",
    "    \"\"\"\n",
    "    Company Name=\n",
    "    print(Ticker + \" Stock Price Today is $\" + format(stock_price, \",.2f\") + \".\")\n",
    "    print(\"You bought \" + str(shares) + \" shares for $\" + format(investment, \",.2f\") + \".\")\n",
    "\n",
    "def spendThrift(investment, budget, friend):\n",
    "    \"\"\"\n",
    "    spendThrift() = the user enters a share value that would require additional investment from a friend (investment > budget), a dialogue will appear stating how much is used from the budget and how much is being borrowed from friend.\n",
    "    \"\"\"\n",
    "    if(investment > budget):\n",
    "        print(\"You spent all of your budget of $\" + format(budget, \",.2f\") + \".\")\n",
    "        print(\"You borrowed $\" + format(investment - budget, \",.2f\") + \" from \" + friend + \".\")\n",
    "        return True   \n",
    "    else:\n",
    "        return False\n",
    "\n",
    "def thrifty(investment, budget, friend):\n",
    "    \"\"\"\n",
    "    thrifty() = If user enters a share value that does not require additional investment from a friend, a dialogue will appear stating how much budget is left.\n",
    "    \"\"\"\n",
    "    print(\"You are left with $\" + format(budget - investment, \",.2f\") + \" of your budget of $\" + format(budget, \",.2f\") + \".\")\n",
    "    print(\"You did not borrow any money from \" + friend + \".\")\n"
   ]
  }
 ],
 "metadata": {
  "kernelspec": {
   "display_name": "Python 3",
   "language": "python",
   "name": "python3"
  },
  "language_info": {
   "codemirror_mode": {
    "name": "ipython",
    "version": 3
   },
   "file_extension": ".py",
   "mimetype": "text/x-python",
   "name": "python",
   "nbconvert_exporter": "python",
   "pygments_lexer": "ipython3",
   "version": "3.7.3"
  }
 },
 "nbformat": 4,
 "nbformat_minor": 2
}
